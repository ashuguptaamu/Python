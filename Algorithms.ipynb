{
 "cells": [
  {
   "cell_type": "code",
   "execution_count": 10,
   "id": "e0bb0528",
   "metadata": {},
   "outputs": [
    {
     "name": "stdout",
     "output_type": "stream",
     "text": [
      "sorted array: [2, 7, 9, 11, 15, 28, 29]\n",
      "sorted array: [3, 7, 9, 11]\n",
      "sorted array: [10, 21, 22, 25]\n",
      "sorted array: [15, 28, 29]\n",
      "sorted array: []\n",
      "sorted array: [6]\n"
     ]
    }
   ],
   "source": [
    "# BUBBLE SORT\n",
    "def bubble_sort(arr):\n",
    "    n=len(arr)\n",
    "    #optimize code, so if the array is already sorted, it doesn't need to go through the entire process\n",
    "    swapped = False\n",
    "    # Traverse through all the elements\n",
    "    for i in range(n-1):\n",
    "        for j in range(0,n-i-1):\n",
    "            # traverse the array from 0 to n-i-1\n",
    "            # Swap if the element found is greater\n",
    "            # than the next element\n",
    "            \n",
    "            if arr[j]> arr[j+1]:\n",
    "                swapped = True\n",
    "                arr[j],arr[j+1]=arr[j+1],arr[j]\n",
    "        if not swapped:\n",
    "            # if we haven't needed to make a single swap, we\n",
    "            # can just exit the main loop.\n",
    "            return\n",
    "        \n",
    "if __name__ == '__main__':\n",
    "    tests = [\n",
    "        [11,9,29,7,2,15,28],\n",
    "        [3, 7, 9, 11],\n",
    "        [25, 22, 21, 10],\n",
    "        [29, 15, 28],\n",
    "        [],\n",
    "        [6]\n",
    "    ]\n",
    "\n",
    "    for elements in tests:\n",
    "        bubble_sort(elements)\n",
    "        print(f'sorted array: {elements}')\n",
    "    "
   ]
  },
  {
   "cell_type": "code",
   "execution_count": 8,
   "id": "ca8d0b98",
   "metadata": {},
   "outputs": [],
   "source": [
    "#Quick Sort\n",
    "def swap (a,b,arr):\n",
    "    if a!=b:\n",
    "        tmp=arr[a]\n",
    "        arr[a]=arr[b]\n",
    "        arr[b]=tmp\n",
    "        \n",
    "def quick_sort(elements,start,end):\n",
    "    if start<end:\n",
    "        pi = partitions(elements,start,end)\n",
    "        quick_sort(elements,start,pi-1)\n",
    "        quick_sort(elements,pi+1,end)\n",
    "    \n",
    "def partitions(elements,start,end): # [11,9,29,7,2,15,28], start=0, end = len(elements)-1 :6\n",
    "        pivot_index=start # 0\n",
    "        pivot=elements[pivot_index]#elements[0]=11\n",
    "        \n",
    "        while start<end: # 0< 6\n",
    "            while start<len(elements) and elements[start]<= pivot: #0 <7 and ele[0]<=11\n",
    "                start+=1\n",
    "            while elements[end]>pivot:#ele[6]>11 : 28> 11\n",
    "                end-=1\n",
    "                \n",
    "            if start<end:\n",
    "                swap(start,end,elements)\n",
    "        swap(pivot_index,end,elements)\n",
    "        \n",
    "        return end\n",
    "    \n",
    "    \n",
    "    "
   ]
  },
  {
   "cell_type": "code",
   "execution_count": 9,
   "id": "ad51f128",
   "metadata": {},
   "outputs": [
    {
     "name": "stdout",
     "output_type": "stream",
     "text": [
      "sorted array: [2, 7, 9, 11, 15, 28, 29]\n",
      "sorted array: [3, 7, 9, 11]\n",
      "sorted array: [10, 21, 22, 25]\n",
      "sorted array: [15, 28, 29]\n",
      "sorted array: []\n",
      "sorted array: [6]\n"
     ]
    }
   ],
   "source": [
    "if __name__ == '__main__':\n",
    "    \n",
    "    \n",
    "    tests = [\n",
    "        [11,9,29,7,2,15,28],\n",
    "        [3, 7, 9, 11],\n",
    "        [25, 22, 21, 10],\n",
    "        [29, 15, 28],\n",
    "        [],\n",
    "        [6]\n",
    "    ]\n",
    "\n",
    "    for elements in tests:\n",
    "        quick_sort(elements,0,len(elements)-1)\n",
    "        print(f'sorted array: {elements}')"
   ]
  },
  {
   "cell_type": "code",
   "execution_count": 16,
   "id": "40953b22",
   "metadata": {},
   "outputs": [
    {
     "name": "stdout",
     "output_type": "stream",
     "text": [
      "current_date will be :  2022-10-30 and current_Day will be :  Sunday\n",
      "end_date of 10 days will be :  2022-11-09 and end_Day will be :  Wednesday\n"
     ]
    }
   ],
   "source": [
    "####\n",
    "from datetime import datetime\n",
    "from datetime import timedelta, date\n",
    "#it will yeild the output in timestamp format\n",
    "#current_date = datetime.today()+ timedelta(days=1)\n",
    "current_date = date.today()\n",
    "current_day = current_date.strftime('%A')\n",
    "print('current_date will be : ',current_date ,'and current_Day will be : ',current_day)\n",
    "#print(current_day)\n",
    "EndDate = date.today() + timedelta(days=10)\n",
    "EndDay = EndDate.strftime('%A')\n",
    "print('end_date of 10 days will be : ',EndDate ,'and end_Day will be : ',EndDay)\n",
    "#print(EndDay)\n"
   ]
  },
  {
   "cell_type": "code",
   "execution_count": null,
   "id": "cc817bbe",
   "metadata": {},
   "outputs": [],
   "source": []
  },
  {
   "cell_type": "code",
   "execution_count": null,
   "id": "71686be6",
   "metadata": {},
   "outputs": [],
   "source": []
  }
 ],
 "metadata": {
  "kernelspec": {
   "display_name": "Python 3 (ipykernel)",
   "language": "python",
   "name": "python3"
  },
  "language_info": {
   "codemirror_mode": {
    "name": "ipython",
    "version": 3
   },
   "file_extension": ".py",
   "mimetype": "text/x-python",
   "name": "python",
   "nbconvert_exporter": "python",
   "pygments_lexer": "ipython3",
   "version": "3.9.7"
  }
 },
 "nbformat": 4,
 "nbformat_minor": 5
}
