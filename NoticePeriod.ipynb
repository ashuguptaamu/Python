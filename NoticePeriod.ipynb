{
 "cells": [
  {
   "cell_type": "code",
   "execution_count": 24,
   "id": "cef3168a",
   "metadata": {},
   "outputs": [
    {
     "name": "stdout",
     "output_type": "stream",
     "text": [
      "current_date will be :  2022-10-30 and current_day will be :  Sunday\n",
      "EndDate of 10 days will be :  2023-01-13 and EndDay will be :  Friday\n",
      "dict_keys(['2023-01-13', '2023-02-14'])\n",
      "inside elif holiday block\n",
      "EndDate from the loop for :  2023-01-12 and EndDay will be :  Thursday\n"
     ]
    }
   ],
   "source": [
    "####\n",
    "from datetime import datetime\n",
    "from datetime import timedelta, date\n",
    "#it will yeild the output in timestamp format\n",
    "#current_date = datetime.today()+ timedelta(days=1)\n",
    "current_date = date.today()\n",
    "current_day = current_date.strftime('%A')\n",
    "print('current_date will be : ',current_date ,'and current_day will be : ',current_day)\n",
    "#print(current_day)\n",
    "EndDate = date.today() + timedelta(days=75)\n",
    "EndDay = EndDate.strftime('%A')\n",
    "print('EndDate of 10 days will be : ',EndDate ,'and EndDay will be : ',EndDay)\n",
    "#print(EndDay)\n",
    "\n",
    "holiday = {\"2023-01-13\":\"Friday\",\"2023-02-14\":\"Tuesday\"}\n",
    "print(holiday.keys())\n",
    "if EndDay == 'Sunday':\n",
    "    print('inside elif sunday block')\n",
    "    EndDate = EndDate - timedelta(days=2)\n",
    "    EndDay = EndDate.strftime('%A')\n",
    "elif EndDay == 'Saturday':\n",
    "    print('inside elif saturday block')\n",
    "    EndDate = EndDate - timedelta(days=1)\n",
    "    EndDay = EndDate.strftime('%A')\n",
    "\n",
    "elif str(EndDate) in holiday.keys():\n",
    "#elif holiday.has_key(EndDate):\n",
    "    print('inside elif holiday block')\n",
    "    EndDate = EndDate - timedelta(days=1)\n",
    "    EndDay = EndDate.strftime('%A')\n",
    "    \n",
    "print('EndDate from the loop for : ',EndDate, 'and EndDay will be : ', EndDay)\n"
   ]
  },
  {
   "cell_type": "code",
   "execution_count": 13,
   "id": "2f2ed941",
   "metadata": {},
   "outputs": [
    {
     "ename": "IndentationError",
     "evalue": "expected an indented block (Temp/ipykernel_11480/3272107980.py, line 3)",
     "output_type": "error",
     "traceback": [
      "\u001b[1;36m  File \u001b[1;32m\"C:\\Users\\singh\\AppData\\Local\\Temp/ipykernel_11480/3272107980.py\"\u001b[1;36m, line \u001b[1;32m3\u001b[0m\n\u001b[1;33m    \u001b[0m\n\u001b[1;37m    ^\u001b[0m\n\u001b[1;31mIndentationError\u001b[0m\u001b[1;31m:\u001b[0m expected an indented block\n"
     ]
    }
   ],
   "source": []
  },
  {
   "cell_type": "code",
   "execution_count": null,
   "id": "cd0b490e",
   "metadata": {},
   "outputs": [],
   "source": []
  }
 ],
 "metadata": {
  "kernelspec": {
   "display_name": "Python 3 (ipykernel)",
   "language": "python",
   "name": "python3"
  },
  "language_info": {
   "codemirror_mode": {
    "name": "ipython",
    "version": 3
   },
   "file_extension": ".py",
   "mimetype": "text/x-python",
   "name": "python",
   "nbconvert_exporter": "python",
   "pygments_lexer": "ipython3",
   "version": "3.9.7"
  }
 },
 "nbformat": 4,
 "nbformat_minor": 5
}
